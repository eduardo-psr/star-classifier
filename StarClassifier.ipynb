{
  "nbformat": 4,
  "nbformat_minor": 0,
  "metadata": {
    "colab": {
      "provenance": []
    },
    "kernelspec": {
      "name": "python3",
      "display_name": "Python 3"
    },
    "language_info": {
      "name": "python"
    }
  },
  "cells": [
    {
      "cell_type": "markdown",
      "source": [
        "# Clasificación de estrellas mediante algoritmos de ML.\n",
        "\n",
        "En este notebook se aplican dos distintos algoritmos para resolver un problema de clasificación de estrellas.\n",
        "\n",
        "\n",
        "Se hará uso del dataset \"Star Type Classification / NASA\"\n",
        "\n",
        "obtenido de:\n",
        "https://www.kaggle.com/datasets/brsdincer/star-type-classification?resource=download\n",
        "\n",
        "\n",
        "El dataset contiene 240 registros con 7 atributos:\n",
        "1. La temperatura \"Temperature\" (medida en Kelvin)\n",
        "2. Luminosidad relativa \"L\", que da la razón de la Luminosidad de la estrella entre la Luminosidad media del sol (aprox.  3.828 x 10^26 Watts)\n",
        "3. Radio relativo \"R\", la razón entre el radio de la estrella y el radio medio del Sol (aprox. 6.9551 x 10^8 m)\n",
        "4. Magnitud Absoluta \"A_M\", que es una cantidad adimensional que indica el brillo aparente que tendría la estrella si se encontrara a una distancia de 10 parsecs o 32.6 años luz de distancia de la Tierra. Es una escala logarítmica inversa, por lo que entre más bajo sea el número, más brillante será la estrella.\n",
        "5. Color\n",
        "6. Clase espectral \"Spectral_class\"  \n",
        "7. Tipo \"Type\", dividido en 5 categorías:\n",
        "\n",
        "0 - Enana Roja |\n",
        "1 - Enana Marrón |\n",
        "2 - Enana Blanca |\n",
        "3 - Secuencia Principal |\n",
        "4 - Supergigante |\n",
        "5 - Hipergigante\n",
        "\n",
        "Las estrellas pueden ser clasificadas de acuerdo a su tipo espectral (la columna _type_ en el dataset). El tipo espectral es determinado de acuerdo a su luminosidad, temperatura tamaño y Magnitud Absoluta. El objetivo de este notebook es determinar el tipo espectral a partir de estas cuatro variables mediante dos métodos distintos.\n",
        "\n",
        "# k-Nearest Neighbors\n",
        "\n",
        "El primer algoritmo utilizado es k-Nearest Neighbors. La idea detrás de este método es asignar una categoría/etiqueta/label para cada instancia a partir de uno o más elementos ya clasificados (siendo el número de elementos el parámetro __k__ del algoritmo). Mediante una función de medida se asigna una distancia entre el elemento a evaluar y los k-vecinos más cercanos. El subconjunto de ellos que promedien la distancia más cercana determinará la etiqueta asignada al elemento en cuestión.\n",
        "\n",
        "\n",
        "Haremos uso de una implementación del algoritmo que se encuentra dentro de sklearn. La función de medida es, en este caso, la distancia ecuclidiana."
      ],
      "metadata": {
        "id": "TjgoFX6bVwT7"
      }
    },
    {
      "cell_type": "code",
      "execution_count": null,
      "metadata": {
        "colab": {
          "base_uri": "https://localhost:8080/"
        },
        "id": "cta0jWBCLO7H",
        "outputId": "33b196b7-d429-4c42-fa42-f1c4fe5272f0"
      },
      "outputs": [
        {
          "output_type": "stream",
          "name": "stdout",
          "text": [
            "<class 'pandas.core.frame.DataFrame'>\n",
            "RangeIndex: 240 entries, 0 to 239\n",
            "Data columns (total 7 columns):\n",
            " #   Column          Non-Null Count  Dtype  \n",
            "---  ------          --------------  -----  \n",
            " 0   Temperature     240 non-null    int64  \n",
            " 1   L               240 non-null    float64\n",
            " 2   R               240 non-null    float64\n",
            " 3   A_M             240 non-null    float64\n",
            " 4   Color           240 non-null    object \n",
            " 5   Spectral_Class  240 non-null    object \n",
            " 6   Type            240 non-null    int64  \n",
            "dtypes: float64(3), int64(2), object(2)\n",
            "memory usage: 13.2+ KB\n"
          ]
        }
      ],
      "source": [
        "#Primero Cargamos la información del dataset\n",
        "import pandas as pd\n",
        "\n",
        "stars = pd.read_csv(\"/content/Stars.csv\")\n",
        "#Veamos qué es lo que contiene el dataset:\n",
        "stars.info()"
      ]
    },
    {
      "cell_type": "code",
      "source": [
        "#Mostrando los primeros 5 primeros registros del dataset\n",
        "stars.head(5)"
      ],
      "metadata": {
        "colab": {
          "base_uri": "https://localhost:8080/",
          "height": 206
        },
        "id": "_-8G0TAzhHUm",
        "outputId": "ee9e2cef-5193-47fa-a90c-2fda0346ab9b"
      },
      "execution_count": null,
      "outputs": [
        {
          "output_type": "execute_result",
          "data": {
            "text/plain": [
              "   Temperature         L       R    A_M Color Spectral_Class  Type\n",
              "0         3068  0.002400  0.1700  16.12   Red              M     0\n",
              "1         3042  0.000500  0.1542  16.60   Red              M     0\n",
              "2         2600  0.000300  0.1020  18.70   Red              M     0\n",
              "3         2800  0.000200  0.1600  16.65   Red              M     0\n",
              "4         1939  0.000138  0.1030  20.06   Red              M     0"
            ],
            "text/html": [
              "\n",
              "  <div id=\"df-e9992add-5dd6-4110-b1d7-d3e9ceaa3402\">\n",
              "    <div class=\"colab-df-container\">\n",
              "      <div>\n",
              "<style scoped>\n",
              "    .dataframe tbody tr th:only-of-type {\n",
              "        vertical-align: middle;\n",
              "    }\n",
              "\n",
              "    .dataframe tbody tr th {\n",
              "        vertical-align: top;\n",
              "    }\n",
              "\n",
              "    .dataframe thead th {\n",
              "        text-align: right;\n",
              "    }\n",
              "</style>\n",
              "<table border=\"1\" class=\"dataframe\">\n",
              "  <thead>\n",
              "    <tr style=\"text-align: right;\">\n",
              "      <th></th>\n",
              "      <th>Temperature</th>\n",
              "      <th>L</th>\n",
              "      <th>R</th>\n",
              "      <th>A_M</th>\n",
              "      <th>Color</th>\n",
              "      <th>Spectral_Class</th>\n",
              "      <th>Type</th>\n",
              "    </tr>\n",
              "  </thead>\n",
              "  <tbody>\n",
              "    <tr>\n",
              "      <th>0</th>\n",
              "      <td>3068</td>\n",
              "      <td>0.002400</td>\n",
              "      <td>0.1700</td>\n",
              "      <td>16.12</td>\n",
              "      <td>Red</td>\n",
              "      <td>M</td>\n",
              "      <td>0</td>\n",
              "    </tr>\n",
              "    <tr>\n",
              "      <th>1</th>\n",
              "      <td>3042</td>\n",
              "      <td>0.000500</td>\n",
              "      <td>0.1542</td>\n",
              "      <td>16.60</td>\n",
              "      <td>Red</td>\n",
              "      <td>M</td>\n",
              "      <td>0</td>\n",
              "    </tr>\n",
              "    <tr>\n",
              "      <th>2</th>\n",
              "      <td>2600</td>\n",
              "      <td>0.000300</td>\n",
              "      <td>0.1020</td>\n",
              "      <td>18.70</td>\n",
              "      <td>Red</td>\n",
              "      <td>M</td>\n",
              "      <td>0</td>\n",
              "    </tr>\n",
              "    <tr>\n",
              "      <th>3</th>\n",
              "      <td>2800</td>\n",
              "      <td>0.000200</td>\n",
              "      <td>0.1600</td>\n",
              "      <td>16.65</td>\n",
              "      <td>Red</td>\n",
              "      <td>M</td>\n",
              "      <td>0</td>\n",
              "    </tr>\n",
              "    <tr>\n",
              "      <th>4</th>\n",
              "      <td>1939</td>\n",
              "      <td>0.000138</td>\n",
              "      <td>0.1030</td>\n",
              "      <td>20.06</td>\n",
              "      <td>Red</td>\n",
              "      <td>M</td>\n",
              "      <td>0</td>\n",
              "    </tr>\n",
              "  </tbody>\n",
              "</table>\n",
              "</div>\n",
              "      <button class=\"colab-df-convert\" onclick=\"convertToInteractive('df-e9992add-5dd6-4110-b1d7-d3e9ceaa3402')\"\n",
              "              title=\"Convert this dataframe to an interactive table.\"\n",
              "              style=\"display:none;\">\n",
              "        \n",
              "  <svg xmlns=\"http://www.w3.org/2000/svg\" height=\"24px\"viewBox=\"0 0 24 24\"\n",
              "       width=\"24px\">\n",
              "    <path d=\"M0 0h24v24H0V0z\" fill=\"none\"/>\n",
              "    <path d=\"M18.56 5.44l.94 2.06.94-2.06 2.06-.94-2.06-.94-.94-2.06-.94 2.06-2.06.94zm-11 1L8.5 8.5l.94-2.06 2.06-.94-2.06-.94L8.5 2.5l-.94 2.06-2.06.94zm10 10l.94 2.06.94-2.06 2.06-.94-2.06-.94-.94-2.06-.94 2.06-2.06.94z\"/><path d=\"M17.41 7.96l-1.37-1.37c-.4-.4-.92-.59-1.43-.59-.52 0-1.04.2-1.43.59L10.3 9.45l-7.72 7.72c-.78.78-.78 2.05 0 2.83L4 21.41c.39.39.9.59 1.41.59.51 0 1.02-.2 1.41-.59l7.78-7.78 2.81-2.81c.8-.78.8-2.07 0-2.86zM5.41 20L4 18.59l7.72-7.72 1.47 1.35L5.41 20z\"/>\n",
              "  </svg>\n",
              "      </button>\n",
              "      \n",
              "  <style>\n",
              "    .colab-df-container {\n",
              "      display:flex;\n",
              "      flex-wrap:wrap;\n",
              "      gap: 12px;\n",
              "    }\n",
              "\n",
              "    .colab-df-convert {\n",
              "      background-color: #E8F0FE;\n",
              "      border: none;\n",
              "      border-radius: 50%;\n",
              "      cursor: pointer;\n",
              "      display: none;\n",
              "      fill: #1967D2;\n",
              "      height: 32px;\n",
              "      padding: 0 0 0 0;\n",
              "      width: 32px;\n",
              "    }\n",
              "\n",
              "    .colab-df-convert:hover {\n",
              "      background-color: #E2EBFA;\n",
              "      box-shadow: 0px 1px 2px rgba(60, 64, 67, 0.3), 0px 1px 3px 1px rgba(60, 64, 67, 0.15);\n",
              "      fill: #174EA6;\n",
              "    }\n",
              "\n",
              "    [theme=dark] .colab-df-convert {\n",
              "      background-color: #3B4455;\n",
              "      fill: #D2E3FC;\n",
              "    }\n",
              "\n",
              "    [theme=dark] .colab-df-convert:hover {\n",
              "      background-color: #434B5C;\n",
              "      box-shadow: 0px 1px 3px 1px rgba(0, 0, 0, 0.15);\n",
              "      filter: drop-shadow(0px 1px 2px rgba(0, 0, 0, 0.3));\n",
              "      fill: #FFFFFF;\n",
              "    }\n",
              "  </style>\n",
              "\n",
              "      <script>\n",
              "        const buttonEl =\n",
              "          document.querySelector('#df-e9992add-5dd6-4110-b1d7-d3e9ceaa3402 button.colab-df-convert');\n",
              "        buttonEl.style.display =\n",
              "          google.colab.kernel.accessAllowed ? 'block' : 'none';\n",
              "\n",
              "        async function convertToInteractive(key) {\n",
              "          const element = document.querySelector('#df-e9992add-5dd6-4110-b1d7-d3e9ceaa3402');\n",
              "          const dataTable =\n",
              "            await google.colab.kernel.invokeFunction('convertToInteractive',\n",
              "                                                     [key], {});\n",
              "          if (!dataTable) return;\n",
              "\n",
              "          const docLinkHtml = 'Like what you see? Visit the ' +\n",
              "            '<a target=\"_blank\" href=https://colab.research.google.com/notebooks/data_table.ipynb>data table notebook</a>'\n",
              "            + ' to learn more about interactive tables.';\n",
              "          element.innerHTML = '';\n",
              "          dataTable['output_type'] = 'display_data';\n",
              "          await google.colab.output.renderOutput(dataTable, element);\n",
              "          const docLink = document.createElement('div');\n",
              "          docLink.innerHTML = docLinkHtml;\n",
              "          element.appendChild(docLink);\n",
              "        }\n",
              "      </script>\n",
              "    </div>\n",
              "  </div>\n",
              "  "
            ]
          },
          "metadata": {},
          "execution_count": 20
        }
      ]
    },
    {
      "cell_type": "code",
      "source": [
        "#creamos el training set y test set\n",
        "from sklearn.model_selection import train_test_split\n",
        "\n",
        "#Extraemos los atributos que usaremos (X) y las etiquetas respectivas. (y)\n",
        "X = stars.filter([\"Temperature\", \"L\", \"R\", \"A_M\"], axis = 1)\n",
        "y = stars[\"Type\"]\n",
        "#Creamos los sets de entrenamiento y test (80% para entrenamiento y 20% para el test)\n",
        "X_train_set, X_test_set = train_test_split(X, test_size = .2, random_state = 14)\n",
        "y_train_set, y_test_set = train_test_split(y, test_size = .2, random_state = 14)"
      ],
      "metadata": {
        "id": "GzrmeKmj_MaK"
      },
      "execution_count": null,
      "outputs": []
    },
    {
      "cell_type": "code",
      "source": [
        "# Creamos el clasificador\n",
        "from sklearn.neighbors import KNeighborsClassifier\n",
        "\n",
        "knn_csf = KNeighborsClassifier(n_neighbors=5)\n",
        "knn_csf.fit(X_train_set, y_train_set)"
      ],
      "metadata": {
        "colab": {
          "base_uri": "https://localhost:8080/"
        },
        "id": "82UT8Bi_BuZf",
        "outputId": "acfc4252-4360-4ce5-b0bb-5ee4b0129c73"
      },
      "execution_count": null,
      "outputs": [
        {
          "output_type": "execute_result",
          "data": {
            "text/plain": [
              "KNeighborsClassifier()"
            ]
          },
          "metadata": {},
          "execution_count": 35
        }
      ]
    },
    {
      "cell_type": "code",
      "source": [
        "# Mostramos las predicciones para el test de prueba\n",
        "y_pred_set = knn_csf.predict(X_test_set)\n",
        "print(y_pred_set)\n",
        "\n"
      ],
      "metadata": {
        "colab": {
          "base_uri": "https://localhost:8080/"
        },
        "id": "Dng80MrXSnee",
        "outputId": "141eb089-905d-4338-921c-20f90c04c081"
      },
      "execution_count": null,
      "outputs": [
        {
          "output_type": "stream",
          "name": "stdout",
          "text": [
            "[1 5 2 0 2 4 0 4 2 5 3 0 0 4 2 0 5 0 2 2 5 2 5 5 4 2 3 5 1 0 5 0 1 1 0 0 4\n",
            " 0 5 2 5 0 2 0 2 1 5 1]\n"
          ]
        }
      ]
    },
    {
      "cell_type": "code",
      "source": [
        "#Para evaluar la precisión del modelo vamos a comparar su predicción con las etiquetas de prueba con\n",
        "#la función accuracy_score, que nos indica el porcentaje de aciertos del clasificador.\n",
        "from sklearn import metrics\n",
        "\n",
        "print(\"Precisión:\",metrics.accuracy_score(y_test_set, y_pred_set))"
      ],
      "metadata": {
        "colab": {
          "base_uri": "https://localhost:8080/"
        },
        "id": "oBBFAxaBhL3X",
        "outputId": "f4c71323-9b9a-47e5-c02b-a0fc3ffb029b"
      },
      "execution_count": null,
      "outputs": [
        {
          "output_type": "stream",
          "name": "stdout",
          "text": [
            "Precisión: 0.7291666666666666\n"
          ]
        }
      ]
    },
    {
      "cell_type": "markdown",
      "source": [
        "Mediante knn hemos obtenido una precisión del 72.91%\n",
        "\n",
        "# Random Forest\n",
        "\n",
        "El segundo algoritmo que vamos a usar es __Random Forest__, que es un algoritmo de tipo __ensemble learning__. La idea detrás de random forest es usar una colección de ___arboles de decisión__ al conjunto de prueba para realizar el entrenamiento.\n",
        "\n",
        "Su funcionamiento consiste en aplicar una colección de __arboles de decisión__ al conjunto test para realizar el entrenamiento.\n",
        "\n",
        "Haremos uso de la implementación de RandomForestClassifier que se encuentra dentro de sklearn"
      ],
      "metadata": {
        "id": "qA5xmfWyMm5s"
      }
    },
    {
      "cell_type": "code",
      "source": [
        "from sklearn.ensemble import RandomForestClassifier\n",
        "\n",
        "#Creamos un bosque aleatorio que contenga 15 árboles de decisión y lo entrenamos\n",
        "forest_csf = RandomForestClassifier(n_estimators = 10, max_depth=5, random_state=14)\n",
        "forest_csf.fit(X_train_set, y_train_set)\n",
        "#Obtenemos las predicciones para el conjunto de prueba\n",
        "y_forest_pred = forest_csf.predict(X_test_set)\n",
        "print(y_forest_pred)\n",
        "#Medimos la precisión de nuestra predicción usando la misma métrica en el caso anterior.\n",
        "precision = metrics.accuracy_score(y_test_set, y_forest_pred)\n",
        "print(\"Precisión: \", precision)"
      ],
      "metadata": {
        "colab": {
          "base_uri": "https://localhost:8080/"
        },
        "id": "as3YQn_79mBk",
        "outputId": "bc9a0c4f-db1b-4bda-ae42-de693e8d3147"
      },
      "execution_count": null,
      "outputs": [
        {
          "output_type": "stream",
          "name": "stdout",
          "text": [
            "[0 4 2 0 3 5 0 4 2 4 3 0 0 4 2 1 5 1 2 3 4 2 5 5 4 2 3 5 1 1 4 0 1 1 0 0 4\n",
            " 0 5 2 5 0 2 1 2 1 4 1]\n",
            "Precisión:  1.0\n"
          ]
        }
      ]
    },
    {
      "cell_type": "markdown",
      "source": [
        "Sin embargo, notamos que al medir la precisión con el mismo método usado para k-Nearest Neighbors, obtenemos un valor del 100%, lo cual abre la posibilidad de que el modelo este sobreajustado. Vamos a utilizar un método de validación cruzada para cuantificar mejor la precisión de nuestro algoritmo basado en el _muestreo estratificado_. La idea es crear subconjuntos homogéneos del conjunto de entrenamiento que sean representativos del conjunto en su totalidad en cuanto al número de instancias de cada clase. Para ello, usaremos la función cross_val_score de sklearn. Con esto podremos propagar la incertidumbre para obtener la precisión promedio y desviación estándar.\n",
        "\n",
        "Haremos uso de la implementación cross_val_score, también contenida en sklear."
      ],
      "metadata": {
        "id": "tb-V8tqbORIg"
      }
    },
    {
      "cell_type": "code",
      "source": [
        "from sklearn.model_selection import cross_val_score\n",
        "from numpy import sqrt\n",
        "\n",
        "#Implementamos validación cruzada, el parámetro cv define el total de estratos (establecimos 8 en este caso)\n",
        "scores = cross_val_score(forest_csf, X_train_set, y_train_set, scoring=\"accuracy\", cv=8)\n",
        "print(\"Precisión promedio: \", scores.mean())\n",
        "print(\"Desviación estándar: \", scores.std())\n"
      ],
      "metadata": {
        "colab": {
          "base_uri": "https://localhost:8080/"
        },
        "id": "6Q7-lSfKDjR0",
        "outputId": "1a200ab1-c795-452e-e3fe-634e13f73bf3"
      },
      "execution_count": null,
      "outputs": [
        {
          "output_type": "stream",
          "name": "stdout",
          "text": [
            "Precisión promedio:  0.9947916666666667\n",
            "Desviación estándar:  0.013779954745128064\n"
          ]
        }
      ]
    },
    {
      "cell_type": "markdown",
      "source": [
        "Hemos calculado que con Random Forest obtenemos una precisión del 99.47% ± 1.37%, que continua siendo una precisión notablemente alta.\n",
        "\n",
        "\n",
        "# Conclusiones.\n",
        "\n",
        "El problema de clasificación de estrellas no es, por diseño, tan dificil de implementar. A final de cuentas la clase a la cuál pertenece una estrella está definida por sus características espectrales, por lo que no es de extrañar que un modelo de aprendizaje automático entrenado con los datos de estrellas ya clasificadas pueda identificar con faciliad a cualquier conjunto de estrellas que se le presente, siempre y cuando los datos de entrenamiento sean numerosos y de calidad.\n",
        "\n",
        "\n",
        "El segundo método parece indicar que existe un overfitting del algoritmo con los datos de entrenamiento, pero la baja desviación estándar es consistente con la exactitud esperada de este método para un problema de naturaleza, relativamente, sencilla.\n",
        "\n",
        "\n",
        "En el primer caso el margen de error fue mayor, pero esto es atribuible a la naturaleza del algoritmo knn. Es probable que con un mayor número de datos de entrenamiento el resultado final habría sido más refinado y consistente con lo obtenido por el bosque aleatorio.\n"
      ],
      "metadata": {
        "id": "lJ54OHippXIc"
      }
    }
  ]
}